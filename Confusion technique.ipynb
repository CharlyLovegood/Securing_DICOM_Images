{
 "cells": [
  {
   "cell_type": "code",
   "execution_count": 5,
   "metadata": {},
   "outputs": [],
   "source": [
    "import numpy as np\n",
    "import cv2\n",
    "from PIL import Image\n",
    "\n",
    "from Algorithm import permute_rows, repermute_columns, repermute_rows, permute_columns\n",
    "from Image import blockshaped\n",
    "from Metrics import Entr, Hist, EQ"
   ]
  },
  {
   "cell_type": "code",
   "execution_count": 6,
   "metadata": {},
   "outputs": [],
   "source": [
    "# constants\n",
    "r = 3.73421\n",
    "key = 3.24725\n",
    "lkey = key - int(key)"
   ]
  },
  {
   "cell_type": "code",
   "execution_count": 8,
   "metadata": {},
   "outputs": [],
   "source": [
    "img_path = 'station.jpg'\n",
    "img = cv2.imread(img_path, 0)\n",
    "\n",
    "n = len(img)\n",
    "img_pi = np.zeros((n, n), dtype=np.uint8)\n",
    "img_spi = np.zeros((n, n), dtype=np.uint8)"
   ]
  },
  {
   "cell_type": "code",
   "execution_count": 9,
   "metadata": {},
   "outputs": [],
   "source": [
    "# step 3\n",
    "S_a = np.zeros(n, dtype=float)\n",
    "S_b = np.zeros(n, dtype=float)\n",
    "\n",
    "S_a[0] = lkey\n",
    "S_b[0] = 1 - lkey\n",
    "\n",
    "for i in range(1, n):\n",
    "    S_a[i] =  r*S_a[i-1]*(1 - S_a[i-1])    \n",
    "    S_b[i] =  r*S_b[i-1]*(1 - S_b[i-1])\n",
    "\n",
    "S_1n = np.concatenate((S_a[0:n//2], S_b[n//2:n]))\n",
    "S_2n = np.concatenate((S_b[0:n//2], S_a[n//2:n]))\n",
    "S_3n = np.concatenate((S_a[0:n//2], S_b[0:n//2]))\n",
    "S_4n = np.concatenate((S_b[n//2:n], S_a[n//2:n]))\n",
    "\n",
    "img_pi = permute_rows(img, S_1n, n)\n",
    "img_pi = permute_rows(img_pi, S_2n, n)\n",
    "img_pi = permute_rows(img_pi, S_3n, n)\n",
    "img_pi = permute_rows(img_pi, S_4n, n)\n",
    "\n",
    "img_spi = permute_columns(img_pi, S_1n, n)\n",
    "img_spi = permute_columns(img_spi, S_2n, n)\n",
    "img_spi = permute_columns(img_spi, S_3n, n)\n",
    "img_spi = permute_columns(img_spi, S_4n, n)\n",
    "\n",
    "\n",
    "# step 4\n",
    "img_fpi = permute_rows(img_spi, S_a, n)\n",
    "img_fpi = permute_columns(img_fpi, S_b, n)\n",
    "\n",
    "\n",
    "# step 5\n",
    "L_1 = np.zeros((n**2)//2, dtype=float)\n",
    "L_2 = np.zeros((n**2)//2, dtype=float)\n",
    "LN_1 = np.zeros((n**2)//2, dtype=int)\n",
    "LN_2 = np.zeros((n**2)//2, dtype=int)\n",
    "\n",
    "L_1[0] = (1 - lkey)/3\n",
    "L_2[0] = (1 - lkey)/4\n",
    "\n",
    "for i in range(1, (n**2)//2):\n",
    "    L_1[i] =  r*L_1[i-1]*(1 - L_1[i-1])    \n",
    "    L_2[i] =  r*L_2[i-1]*(1 - L_2[i-1])\n",
    "    \n",
    "for i in range((n**2)//2):\n",
    "    LN_1[i] = (L_1[i] * (10**14)) % 256   \n",
    "    LN_2[i] = (L_2[i] * (10**14)) % 256\n",
    "    \n",
    "# step 6\n",
    "img_fpi_str = img_fpi.flatten()\n",
    "\n",
    "C = np.zeros(n**2, dtype=np.uint8)\n",
    "C[0] = LN_1[0] ^ LN_2[0] ^ img_fpi_str[0]\n",
    "C[1] = LN_2[0] ^ C[0] ^ img_fpi_str[1]\n",
    "\n",
    "for j in range(1, (n**2)//2):\n",
    "    C[2*j] = LN_1[j] ^ C[2*j - 1] ^ img_fpi_str[2*j]\n",
    "    C[2*j + 1] = LN_2[j] ^ C[2*j] ^ img_fpi_str[2*j + 1]"
   ]
  },
  {
   "cell_type": "code",
   "execution_count": 10,
   "metadata": {},
   "outputs": [],
   "source": [
    "# save encrypted image\n",
    "arr = np.reshape(C, (-1, n))\n",
    "\n",
    "img_en = Image.fromarray(arr, 'L')\n",
    "img_en.save(\"encrypted.jpg\")"
   ]
  },
  {
   "cell_type": "code",
   "execution_count": 11,
   "metadata": {},
   "outputs": [],
   "source": [
    "# decryption\n",
    "\n",
    "# step 2\n",
    "D_1 = np.zeros((n**2)//2, dtype=float)\n",
    "D_2 = np.zeros((n**2)//2, dtype=float)\n",
    "DN_1 = np.zeros((n**2)//2, dtype=int)\n",
    "DN_2 = np.zeros((n**2)//2, dtype=int)\n",
    "\n",
    "D_1[0] = (1 - lkey)/3\n",
    "D_2[0] = (1 - lkey)/4\n",
    "\n",
    "for i in range(1, (n**2)//2):\n",
    "    D_1[i] =  r*D_1[i-1]*(1 - D_1[i-1])    \n",
    "    D_2[i] =  r*D_2[i-1]*(1 - D_2[i-1])\n",
    "    \n",
    "for i in range((n**2)//2):\n",
    "    DN_1[i] = (D_1[i] * (10**14)) % 256   \n",
    "    DN_2[i] = (D_2[i] * (10**14)) % 256\n",
    "\n",
    "# step 3\n",
    "img_di = np.zeros(n**2, dtype=int)\n",
    "\n",
    "DI = np.zeros(n**2, dtype=np.uint8)\n",
    "DI[0] = DN_1[0] ^ DN_2[0] ^ C[0]\n",
    "DI[1] = DN_2[0] ^ C[0] ^ C[1]\n",
    "\n",
    "for j in range(1, (n**2)//2):\n",
    "    DI[2*j] = DN_1[j] ^ C[2*j - 1] ^ C[2*j]\n",
    "    DI[2*j + 1] = DN_2[j] ^ C[2*j] ^ C[2*j + 1]\n",
    "    \n",
    "arr = np.reshape(DI, (-1, n))"
   ]
  },
  {
   "cell_type": "code",
   "execution_count": 12,
   "metadata": {},
   "outputs": [],
   "source": [
    "# step 4\n",
    "img_1 = repermute_columns(arr, S_b, n)\n",
    "img_1 = repermute_rows(img_1, S_a, n)\n",
    "\n",
    "# step 5\n",
    "img_2 = repermute_columns(img_1, S_4n, n)\n",
    "img_2 = repermute_columns(img_2, S_3n, n)\n",
    "img_2 = repermute_columns(img_2, S_2n, n)\n",
    "img_2 = repermute_columns(img_2, S_1n, n)\n",
    "\n",
    "img_3 = repermute_rows(img_2, S_4n, n)\n",
    "img_3 = repermute_rows(img_3, S_3n, n)\n",
    "img_3 = repermute_rows(img_3, S_2n, n)\n",
    "img_3 = repermute_rows(img_3, S_1n, n)"
   ]
  },
  {
   "cell_type": "code",
   "execution_count": 13,
   "metadata": {},
   "outputs": [],
   "source": [
    "# save decrypted image\n",
    "\n",
    "im_1 = Image.fromarray(img_3, 'L')\n",
    "im_1.save(\"decrypted.jpg\")"
   ]
  }
 ],
 "metadata": {
  "kernelspec": {
   "display_name": "Python 3",
   "language": "python",
   "name": "python3"
  },
  "language_info": {
   "codemirror_mode": {
    "name": "ipython",
    "version": 3
   },
   "file_extension": ".py",
   "mimetype": "text/x-python",
   "name": "python",
   "nbconvert_exporter": "python",
   "pygments_lexer": "ipython3",
   "version": "3.7.3"
  }
 },
 "nbformat": 4,
 "nbformat_minor": 4
}
