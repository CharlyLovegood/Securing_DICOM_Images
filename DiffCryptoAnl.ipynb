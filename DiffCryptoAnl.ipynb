{
 "cells": [
  {
   "cell_type": "code",
   "execution_count": 11,
   "metadata": {},
   "outputs": [],
   "source": [
    "import numpy as np\n",
    "import cv2\n",
    "from PIL import Image\n",
    "\n",
    "from Algorithm import permute_rows, repermute_columns, repermute_rows, permute_columns\n",
    "from Image import blockshaped\n",
    "from Metrics import Entr, Hist, EQ"
   ]
  },
  {
   "cell_type": "code",
   "execution_count": 12,
   "metadata": {},
   "outputs": [],
   "source": [
    "def algo(arr):\n",
    "    # constants\n",
    "    r = 3.73421\n",
    "    sum = 0\n",
    "    for i in range(len(arr)):\n",
    "        for j in range(len(arr)):\n",
    "            sum = sum + arr[i,j]\n",
    "    key = sum / n**2\n",
    "    lkey = key - int(key)\n",
    "    \n",
    "    S_a = np.zeros(n, dtype=float)\n",
    "    S_b = np.zeros(n, dtype=float)\n",
    "\n",
    "    S_a[0] = lkey\n",
    "    S_b[0] = 1 - lkey\n",
    "\n",
    "    for i in range(1, n):\n",
    "        S_a[i] =  r*S_a[i-1]*(1 - S_a[i-1])    \n",
    "        S_b[i] =  r*S_b[i-1]*(1 - S_b[i-1])\n",
    "\n",
    "    S_1n = np.concatenate((S_a[0:n//2], S_b[n//2:n]))\n",
    "    S_2n = np.concatenate((S_b[0:n//2], S_a[n//2:n]))\n",
    "    S_3n = np.concatenate((S_a[0:n//2], S_b[0:n//2]))\n",
    "    S_4n = np.concatenate((S_b[n//2:n], S_a[n//2:n]))\n",
    "\n",
    "    img_pi = permute_rows(arr, S_1n, n)\n",
    "    img_pi = permute_rows(img_pi, S_2n, n)\n",
    "    img_pi = permute_rows(img_pi, S_3n, n)\n",
    "    img_pi = permute_rows(img_pi, S_4n, n)\n",
    "\n",
    "    img_spi = permute_columns(img_pi, S_1n, n)\n",
    "    img_spi = permute_columns(img_spi, S_2n, n)\n",
    "    img_spi = permute_columns(img_spi, S_3n, n)\n",
    "    img_spi = permute_columns(img_spi, S_4n, n)\n",
    "\n",
    "\n",
    "    # step 4\n",
    "    img_fpi = permute_rows(img_spi, S_a, n)\n",
    "    img_fpi = permute_columns(img_fpi, S_b, n)\n",
    "\n",
    "\n",
    "    # step 5\n",
    "    L_1 = np.zeros((n**2)//2, dtype=float)\n",
    "    L_2 = np.zeros((n**2)//2, dtype=float)\n",
    "    LN_1 = np.zeros((n**2)//2, dtype=int)\n",
    "    LN_2 = np.zeros((n**2)//2, dtype=int)\n",
    "\n",
    "    L_1[0] = (1 - lkey)/3\n",
    "    L_2[0] = (1 - lkey)/4\n",
    "\n",
    "    for i in range(1, (n**2)//2):\n",
    "        L_1[i] =  r*L_1[i-1]*(1 - L_1[i-1])    \n",
    "        L_2[i] =  r*L_2[i-1]*(1 - L_2[i-1])\n",
    "\n",
    "    for i in range((n**2)//2):\n",
    "        LN_1[i] = (L_1[i] * (10**14)) % 256   \n",
    "        LN_2[i] = (L_2[i] * (10**14)) % 256\n",
    "\n",
    "    # step 6\n",
    "    img_fpi_str = img_fpi.flatten()\n",
    "\n",
    "    C = np.zeros(n**2, dtype=np.uint8)\n",
    "    C[0] = LN_1[0] ^ LN_2[0] ^ img_fpi_str[0]\n",
    "    C[1] = LN_2[0] ^ C[0] ^ img_fpi_str[1]\n",
    "\n",
    "    for j in range(1, (n**2)//2):\n",
    "        C[2*j] = LN_1[j] ^ C[2*j - 1] ^ img_fpi_str[2*j]\n",
    "        C[2*j + 1] = LN_2[j] ^ C[2*j] ^ img_fpi_str[2*j + 1]\n",
    "    arr = np.reshape(C, (-1, n))\n",
    "    return arr"
   ]
  },
  {
   "cell_type": "code",
   "execution_count": null,
   "metadata": {},
   "outputs": [],
   "source": []
  },
  {
   "cell_type": "code",
   "execution_count": 9,
   "metadata": {},
   "outputs": [],
   "source": [
    "def generateSquareArrayOf256El():\n",
    "    value_range = [ i for i in range(256)]\n",
    "    arr1 = np.random.choice(value_range, (16,16))\n",
    "    return arr1\n",
    "    \n",
    "def generatePairArray(diff, arr1):\n",
    "    arr2 = np.bitwise_xor(diff, arr1)\n",
    "    return arr2"
   ]
  },
  {
   "cell_type": "code",
   "execution_count": 10,
   "metadata": {},
   "outputs": [
    {
     "ename": "UnboundLocalError",
     "evalue": "local variable 'n' referenced before assignment",
     "output_type": "error",
     "traceback": [
      "\u001b[0;31m---------------------------------------------------------------------------\u001b[0m",
      "\u001b[0;31mUnboundLocalError\u001b[0m                         Traceback (most recent call last)",
      "\u001b[0;32m<ipython-input-10-f17f59bbf734>\u001b[0m in \u001b[0;36m<module>\u001b[0;34m()\u001b[0m\n\u001b[1;32m      7\u001b[0m     \u001b[0marr2\u001b[0m \u001b[0;34m=\u001b[0m \u001b[0mgeneratePairArray\u001b[0m\u001b[0;34m(\u001b[0m\u001b[0mdiff_plain\u001b[0m\u001b[0;34m,\u001b[0m \u001b[0marr1\u001b[0m\u001b[0;34m)\u001b[0m\u001b[0;34m\u001b[0m\u001b[0m\n\u001b[1;32m      8\u001b[0m \u001b[0;34m\u001b[0m\u001b[0m\n\u001b[0;32m----> 9\u001b[0;31m     \u001b[0marr1_enc\u001b[0m \u001b[0;34m=\u001b[0m \u001b[0malgo\u001b[0m\u001b[0;34m(\u001b[0m\u001b[0marr1\u001b[0m\u001b[0;34m)\u001b[0m\u001b[0;34m\u001b[0m\u001b[0m\n\u001b[0m\u001b[1;32m     10\u001b[0m     \u001b[0marr2_enc\u001b[0m \u001b[0;34m=\u001b[0m \u001b[0malgo\u001b[0m\u001b[0;34m(\u001b[0m\u001b[0marr2\u001b[0m\u001b[0;34m)\u001b[0m\u001b[0;34m\u001b[0m\u001b[0m\n\u001b[1;32m     11\u001b[0m \u001b[0;34m\u001b[0m\u001b[0m\n",
      "\u001b[0;32m<ipython-input-8-453aa9680921>\u001b[0m in \u001b[0;36malgo\u001b[0;34m(arr)\u001b[0m\n\u001b[1;32m      3\u001b[0m     \u001b[0mr\u001b[0m \u001b[0;34m=\u001b[0m \u001b[0;36m3.73421\u001b[0m\u001b[0;34m\u001b[0m\u001b[0m\n\u001b[1;32m      4\u001b[0m     \u001b[0msum\u001b[0m \u001b[0;34m=\u001b[0m \u001b[0;36m0\u001b[0m\u001b[0;34m\u001b[0m\u001b[0m\n\u001b[0;32m----> 5\u001b[0;31m     \u001b[0;32mfor\u001b[0m \u001b[0mi\u001b[0m \u001b[0;32min\u001b[0m \u001b[0mrange\u001b[0m\u001b[0;34m(\u001b[0m\u001b[0mn\u001b[0m\u001b[0;34m)\u001b[0m\u001b[0;34m:\u001b[0m\u001b[0;34m\u001b[0m\u001b[0m\n\u001b[0m\u001b[1;32m      6\u001b[0m         \u001b[0;32mfor\u001b[0m \u001b[0mj\u001b[0m \u001b[0;32min\u001b[0m \u001b[0mrange\u001b[0m\u001b[0;34m(\u001b[0m\u001b[0mn\u001b[0m\u001b[0;34m)\u001b[0m\u001b[0;34m:\u001b[0m\u001b[0;34m\u001b[0m\u001b[0m\n\u001b[1;32m      7\u001b[0m             \u001b[0msum\u001b[0m \u001b[0;34m=\u001b[0m \u001b[0msum\u001b[0m \u001b[0;34m+\u001b[0m \u001b[0marr\u001b[0m\u001b[0;34m[\u001b[0m\u001b[0mi\u001b[0m\u001b[0;34m,\u001b[0m\u001b[0mj\u001b[0m\u001b[0;34m]\u001b[0m\u001b[0;34m\u001b[0m\u001b[0m\n",
      "\u001b[0;31mUnboundLocalError\u001b[0m: local variable 'n' referenced before assignment"
     ]
    }
   ],
   "source": [
    "diff_plain = generateSquareArrayOf256El()\n",
    "n_pairs = 2\n",
    "diff_cipher = []\n",
    "\n",
    "for i in range(n_pairs):\n",
    "    arr1 = generateSquareArrayOf256El()\n",
    "    arr2 = generatePairArray(diff_plain, arr1)\n",
    "    \n",
    "    arr1_enc = algo(arr1)\n",
    "    arr2_enc = algo(arr2)\n",
    "    \n",
    "    diff_cipher.append(np.bitwise_xor(arr1_enc, arr2_enc))\n",
    "    \n",
    "print(diff_cipher)"
   ]
  },
  {
   "cell_type": "code",
   "execution_count": null,
   "metadata": {},
   "outputs": [],
   "source": []
  }
 ],
 "metadata": {
  "kernelspec": {
   "display_name": "Python 3",
   "language": "python",
   "name": "python3"
  },
  "language_info": {
   "codemirror_mode": {
    "name": "ipython",
    "version": 3
   },
   "file_extension": ".py",
   "mimetype": "text/x-python",
   "name": "python",
   "nbconvert_exporter": "python",
   "pygments_lexer": "ipython3",
   "version": "3.7.0"
  }
 },
 "nbformat": 4,
 "nbformat_minor": 2
}
