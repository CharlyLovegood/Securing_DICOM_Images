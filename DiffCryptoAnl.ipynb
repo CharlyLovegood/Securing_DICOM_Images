{
 "cells": [
  {
   "cell_type": "code",
   "execution_count": 9,
   "metadata": {},
   "outputs": [],
   "source": [
    "import numpy as np\n",
    "import cv2\n",
    "from PIL import Image\n",
    "import random\n",
    "import timeit\n",
    "\n",
    "from Algorithm import permute_rows, repermute_columns, repermute_rows, permute_columns, key_expansion, ciphering_block, key_update, deciphering_block, s, Arnold\n",
    "from Image import blockshaped, From_blocks_to_arr_image\n",
    "from Metrics import Entr, Hist, EQ, NPCR, UACI"
   ]
  },
  {
   "cell_type": "code",
   "execution_count": 10,
   "metadata": {},
   "outputs": [],
   "source": [
    "def timer(function):\n",
    "    def new_function(*args, **kwargs):\n",
    "        start_time = timeit.default_timer()\n",
    "        function(*args, **kwargs)\n",
    "        elapsed = timeit.default_timer() - start_time\n",
    "        print('Function \"{name}\" took {time} seconds to complete.'.format(name=function.__name__, time=elapsed))\n",
    "    return new_function"
   ]
  },
  {
   "cell_type": "code",
   "execution_count": 11,
   "metadata": {},
   "outputs": [],
   "source": [
    "@timer\n",
    "def algo_confusion(arr, n):\n",
    "    # constants\n",
    "    r = 3.73421\n",
    "    sum = 0\n",
    "    for i in range(len(arr)):\n",
    "        for j in range(len(arr)):\n",
    "            sum = sum + arr[i,j]\n",
    "    key = sum / n**2\n",
    "    lkey = key - int(key)\n",
    "    \n",
    "    S_a = np.zeros(n, dtype=float)\n",
    "    S_b = np.zeros(n, dtype=float)\n",
    "\n",
    "    S_a[0] = lkey\n",
    "    S_b[0] = 1 - lkey\n",
    "\n",
    "    for i in range(1, n):\n",
    "        S_a[i] =  r*S_a[i-1]*(1 - S_a[i-1])    \n",
    "        S_b[i] =  r*S_b[i-1]*(1 - S_b[i-1])\n",
    "\n",
    "    S_1n = np.concatenate((S_a[0:n//2], S_b[n//2:n]))\n",
    "    S_2n = np.concatenate((S_b[0:n//2], S_a[n//2:n]))\n",
    "    S_3n = np.concatenate((S_a[0:n//2], S_b[0:n//2]))\n",
    "    S_4n = np.concatenate((S_b[n//2:n], S_a[n//2:n]))\n",
    "\n",
    "    img_pi = permute_rows(arr, S_1n, n)\n",
    "    img_pi = permute_rows(img_pi, S_2n, n)\n",
    "    img_pi = permute_rows(img_pi, S_3n, n)\n",
    "    img_pi = permute_rows(img_pi, S_4n, n)\n",
    "\n",
    "    img_spi = permute_columns(img_pi, S_1n, n)\n",
    "    img_spi = permute_columns(img_spi, S_2n, n)\n",
    "    img_spi = permute_columns(img_spi, S_3n, n)\n",
    "    img_spi = permute_columns(img_spi, S_4n, n)\n",
    "\n",
    "\n",
    "    # step 4\n",
    "    img_fpi = permute_rows(img_spi, S_a, n)\n",
    "    img_fpi = permute_columns(img_fpi, S_b, n)\n",
    "\n",
    "\n",
    "    # step 5\n",
    "    L_1 = np.zeros((n**2)//2, dtype=float)\n",
    "    L_2 = np.zeros((n**2)//2, dtype=float)\n",
    "    LN_1 = np.zeros((n**2)//2, dtype=int)\n",
    "    LN_2 = np.zeros((n**2)//2, dtype=int)\n",
    "\n",
    "    L_1[0] = (1 - lkey)/3\n",
    "    L_2[0] = (1 - lkey)/4\n",
    "\n",
    "    for i in range(1, (n**2)//2):\n",
    "        L_1[i] =  r*L_1[i-1]*(1 - L_1[i-1])    \n",
    "        L_2[i] =  r*L_2[i-1]*(1 - L_2[i-1])\n",
    "\n",
    "    for i in range((n**2)//2):\n",
    "        LN_1[i] = (L_1[i] * (10**14)) % 256   \n",
    "        LN_2[i] = (L_2[i] * (10**14)) % 256\n",
    "\n",
    "    # step 6\n",
    "    img_fpi_str = img_fpi.flatten()\n",
    "\n",
    "    C = np.zeros(n**2, dtype=np.uint8)\n",
    "    C[0] = LN_1[0] ^ LN_2[0] ^ img_fpi_str[0]\n",
    "    C[1] = LN_2[0] ^ C[0] ^ img_fpi_str[1]\n",
    "\n",
    "    for j in range(1, (n**2)//2):\n",
    "        C[2*j] = LN_1[j] ^ C[2*j - 1] ^ img_fpi_str[2*j]\n",
    "        C[2*j + 1] = LN_2[j] ^ C[2*j] ^ img_fpi_str[2*j + 1]\n",
    "    arr = np.reshape(C, (-1, n))\n",
    "    return arr"
   ]
  },
  {
   "cell_type": "code",
   "execution_count": 12,
   "metadata": {},
   "outputs": [],
   "source": [
    "@timer\n",
    "def algo_arnold(img):\n",
    "    k1 = [1,32,3,234,15,156,7,8,9,40,1,2,3,43,5,64]\n",
    "    k2 = [1,2,35,54,55,26,73,8,9,50,21,2,3,45,5,65]\n",
    "    k3 = [1,27,3,24,25,6,7,8,9,0,13,2,23,4,5,64]\n",
    "    k4 = [143,25,33,4,5,6,73,8,39,0,1,2,3,4,5,6]\n",
    "\n",
    "    imgb = blockshaped(img, 16, 16)\n",
    "    Nb = len(imgb)\n",
    "    imgb_c = [0] * Nb\n",
    "    imgb_d = [0] * Nb\n",
    "\n",
    "    key_B = key_expansion(k1, k2, k3, k4)\n",
    "\n",
    "    for i in range(Nb):\n",
    "        B = imgb[i]\n",
    "        B_C = ciphering_block(B, key_B, 8)\n",
    "        imgb_c[i] = B_C\n",
    "        key_B = key_update(key_B, B_C, B, k1, k2, k3, k4, 8)\n",
    "        \n",
    "    k = int(len(img[0]) / 16)\n",
    "\n",
    "    img_enc = From_blocks_to_arr_image(imgb_c,Nb,k)\n",
    "    return img_enc\n",
    "\n"
   ]
  },
  {
   "cell_type": "code",
   "execution_count": 17,
   "metadata": {},
   "outputs": [
    {
     "name": "stdout",
     "output_type": "stream",
     "text": [
      "Function \"algo_arnold\" took 0.5199015919999965 seconds to complete.\n",
      "Function \"algo_confusion\" took 22.928939997000043 seconds to complete.\n"
     ]
    }
   ],
   "source": [
    "time_img = cv2.imread('brain-2.jpg', 0)\n",
    "\n",
    "time_res_1 = algo_arnold(time_img)\n",
    "time_res_2 = algo_confusion(time_img, 256)\n"
   ]
  },
  {
   "cell_type": "code",
   "execution_count": 6,
   "metadata": {},
   "outputs": [
    {
     "data": {
      "text/plain": [
       "'\\ndef Entr_2(img,n):\\n    arr_fl = np.array(img).flatten()\\n\\n    P_i = np.unique(arr_fl, return_counts=True)[1]/(img.shape[0]*img.shape[1])\\n    print(len(P_i))\\n    return (P_i * np.log2(P_i**(-1))).sum()\\nEntr_2(time_img, 10)s\\n\\n\\ndef generateSquareArrayOf256El():\\n    value_range = [ i for i in range(256)]\\n    arr1 = np.random.choice(value_range, (16,16))\\n    return arr1\\n    \\ndef generatePairArray(diff, arr1):\\n    arr2 = np.bitwise_xor(diff, arr1)\\n    return arr2\\n    \\n    \\n    ==============================================================\\n    \\ndiff_plain = generateSquareArrayOf256El()\\nn_pairs = 2\\ndiff_cipher = []\\n\\nfor i in range(n_pairs):\\n    arr1 = generateSquareArrayOf256El()\\n    arr2 = generatePairArray(diff_plain, arr1)\\n    \\n    arr1_enc = algo(arr1)\\n    arr2_enc = algo(arr2)\\n    \\n    diff_cipher.append(np.bitwise_xor(arr1_enc, arr2_enc))\\n    \\nprint(diff_cipher)\\n'"
      ]
     },
     "execution_count": 6,
     "metadata": {},
     "output_type": "execute_result"
    }
   ],
   "source": [
    "'''\n",
    "def generateSquareArrayOf256El():\n",
    "    value_range = [ i for i in range(256)]\n",
    "    arr1 = np.random.choice(value_range, (16,16))\n",
    "    return arr1\n",
    "    \n",
    "def generatePairArray(diff, arr1):\n",
    "    arr2 = np.bitwise_xor(diff, arr1)\n",
    "    return arr2\n",
    "    \n",
    "    \n",
    "    ==============================================================\n",
    "    \n",
    "diff_plain = generateSquareArrayOf256El()\n",
    "n_pairs = 2\n",
    "diff_cipher = []\n",
    "\n",
    "for i in range(n_pairs):\n",
    "    arr1 = generateSquareArrayOf256El()\n",
    "    arr2 = generatePairArray(diff_plain, arr1)\n",
    "    \n",
    "    arr1_enc = algo(arr1)\n",
    "    arr2_enc = algo(arr2)\n",
    "    \n",
    "    diff_cipher.append(np.bitwise_xor(arr1_enc, arr2_enc))\n",
    "    \n",
    "print(diff_cipher)\n",
    "'''"
   ]
  },
  {
   "cell_type": "code",
   "execution_count": 6,
   "metadata": {},
   "outputs": [],
   "source": [
    "def NPCR_UACI_val(img_path, algo_type):\n",
    "    img_1 = cv2.imread(img_path, 0)\n",
    "    shape = img_1.shape\n",
    "    NPCR_res_arr = []\n",
    "    UACI_res_arr = []\n",
    "    algo_types = ['Arnold_Vigenere', 'Confusion_Technique']\n",
    "    \n",
    "    if algo_type not in algo_types:\n",
    "        raise ValueError(\"Invalid algo type. Expected one of: %s\" % algo_types)\n",
    "        \n",
    "    for pix_i in range(shape[0]):\n",
    "        for pix_j in range(shape[1]):\n",
    "            \n",
    "            img_2 = img_1.copy()\n",
    "            img_2[pix_i][pix_j] = 255 - img_1[pix_i][pix_j]\n",
    "            \n",
    "            if algo_type == 'Arnold_Vigenere':\n",
    "                img_enc_1 = algo_arnold(img_1)\n",
    "                img_enc_2 = algo_arnold(img_2)\n",
    "            else:\n",
    "                img_enc_1 = algo_confusion(img_1, shape[0])\n",
    "                img_enc_2 = algo_confusion(img_2, shape[0])\n",
    "                \n",
    "            NPCR_res_arr.append(NPCR(img_enc_1,img_enc_2))\n",
    "            UACI_res_arr.append(UACI(img_enc_1,img_enc_2, 8))\n",
    "            \n",
    "    return [sum(NPCR_res_arr)/len(NPCR_res_arr), sum(UACI_res_arr)/len(UACI_res_arr)]\n",
    "\n",
    "    "
   ]
  },
  {
   "cell_type": "code",
   "execution_count": 8,
   "metadata": {},
   "outputs": [
    {
     "data": {
      "text/plain": [
       "[99.08890235457064, 49.76277768725218]"
      ]
     },
     "execution_count": 8,
     "metadata": {},
     "output_type": "execute_result"
    }
   ],
   "source": [
    "NPCR_UACI_val('station.jpg', 'Arnold_Vigenere')"
   ]
  },
  {
   "cell_type": "code",
   "execution_count": 10,
   "metadata": {},
   "outputs": [
    {
     "name": "stdout",
     "output_type": "stream",
     "text": [
      "7.998336184950415\n",
      "7.997892593677403\n"
     ]
    }
   ],
   "source": [
    "img = cv2.imread('station.jpg', 0)\n",
    "img_e_1 = algo_confusion(img,304)\n",
    "print(Entr(img_e_1))\n",
    "img_e_2 = algo_arnold(img)\n",
    "print(Entr(img_e_2))"
   ]
  },
  {
   "cell_type": "code",
   "execution_count": null,
   "metadata": {},
   "outputs": [],
   "source": []
  }
 ],
 "metadata": {
  "kernelspec": {
   "display_name": "Python 3",
   "language": "python",
   "name": "python3"
  },
  "language_info": {
   "codemirror_mode": {
    "name": "ipython",
    "version": 3
   },
   "file_extension": ".py",
   "mimetype": "text/x-python",
   "name": "python",
   "nbconvert_exporter": "python",
   "pygments_lexer": "ipython3",
   "version": "3.7.0"
  }
 },
 "nbformat": 4,
 "nbformat_minor": 2
}
