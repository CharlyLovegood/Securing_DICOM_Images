{
 "cells": [
  {
   "cell_type": "code",
   "execution_count": 1,
   "metadata": {},
   "outputs": [],
   "source": [
    "import numpy as np\n",
    "import cv2\n",
    "from PIL import Image\n",
    "\n",
    "from Algorithm import key_expansion, ciphering_block, key_update, deciphering_block, key_update_hk, Arnold, s\n",
    "from Image import blockshaped, From_blocks_to_arr_image\n",
    "from Metrics import Entr, Hist, EQ"
   ]
  },
  {
   "cell_type": "code",
   "execution_count": 2,
   "metadata": {},
   "outputs": [],
   "source": [
    "# шифрование картинки\n",
    "\n",
    "k1 = np.random.randint(0,256,16)\n",
    "k2 = np.random.randint(0,256,16)\n",
    "k3 = np.random.randint(0,256,16)\n",
    "k4 = np.random.randint(0,256,16)\n",
    "\n",
    "img_path = 'lena_gray.jpg'\n",
    "img = cv2.imread(img_path, 0)\n",
    "\n",
    "imgb = blockshaped(img, 16, 16)\n",
    "Nb = len(imgb)\n",
    "imgb_c = [0] * Nb\n",
    "imgb_d = [0] * Nb\n",
    "\n",
    "key_B = key_expansion(k1, k2, k3, k4)\n",
    "\n",
    "for i in range(Nb):\n",
    "    B = imgb[i]\n",
    "    B_C = ciphering_block(B, key_B, 8)\n",
    "    imgb_c[i] = B_C\n",
    "    key_B = key_update(key_B, B_C, B, k1, k2, k3, k4, 8)"
   ]
  },
  {
   "cell_type": "code",
   "execution_count": 3,
   "metadata": {},
   "outputs": [],
   "source": [
    "k = int(len(img[0]) / 16)\n",
    "\n",
    "arr2 = From_blocks_to_arr_image(imgb_c,Nb,k)\n",
    "\n",
    "im_1 = Image.fromarray(arr2, 'L')\n",
    "im_1.save(\"encrypted.jpg\")"
   ]
  },
  {
   "cell_type": "code",
   "execution_count": 4,
   "metadata": {},
   "outputs": [],
   "source": [
    "# дешифрование зашифрованной картинки\n",
    "key_B = key_expansion(k1, k2, k3, k4)\n",
    "\n",
    "for i in range(Nb):\n",
    "    B_C = imgb_c[i]\n",
    "    B_D = deciphering_block(B_C, key_B, 8)\n",
    "    imgb_d[i] = B_D\n",
    "    key_B = key_update(key_B, B_C, B_D, k1, k2, k3, k4, 8)"
   ]
  },
  {
   "cell_type": "code",
   "execution_count": 5,
   "metadata": {},
   "outputs": [],
   "source": [
    "arr2 = From_blocks_to_arr_image(imgb_d,Nb,k)\n",
    "\n",
    "im_1 = Image.fromarray(arr2, 'L')\n",
    "im_1.save(\"decrypted.jpg\")"
   ]
  },
  {
   "cell_type": "markdown",
   "metadata": {},
   "source": [
    "Plain-text атака при постоянном ключе"
   ]
  },
  {
   "cell_type": "code",
   "execution_count": 6,
   "metadata": {},
   "outputs": [
    {
     "name": "stdout",
     "output_type": "stream",
     "text": [
      "True\n"
     ]
    },
    {
     "name": "stderr",
     "output_type": "stream",
     "text": [
      "C:\\Users\\ynov\\OneDrive\\Рабочий стол\\Securing_DICOM_Images\\Algorithm.py:19: RuntimeWarning: overflow encountered in ubyte_scalars\n",
      "  p_i = (c_i - k_i) % (2**n)\n"
     ]
    }
   ],
   "source": [
    "key_B_0_hk = deciphering_block(imgb_c[0], imgb_d[0], 8)\n",
    "print((key_B_0_hk==key_expansion(k1, k2, k3, k4)).all())"
   ]
  },
  {
   "cell_type": "code",
   "execution_count": 7,
   "metadata": {},
   "outputs": [],
   "source": [
    "def Arnold_hk(key_B):\n",
    "    key_B_new = Arnold(key_B)\n",
    "    key_B_new_prev = key_B\n",
    "    while (key_B_new != key_B).any():\n",
    "        key_B_new_prev = key_B_new\n",
    "        key_B_new = Arnold(key_B_new)\n",
    "    return key_B_new_prev"
   ]
  },
  {
   "cell_type": "code",
   "execution_count": 8,
   "metadata": {},
   "outputs": [],
   "source": [
    "key_B_1_hk = deciphering_block(imgb_c[1], imgb_d[1], 8)\n",
    "\n",
    "s_1 = (Arnold_hk(key_B_1_hk) - key_B_0_hk - np.outer(imgb_c[0].sum(0),imgb_d[0].sum(1)))%(2**8)"
   ]
  },
  {
   "cell_type": "code",
   "execution_count": 9,
   "metadata": {},
   "outputs": [
    {
     "name": "stdout",
     "output_type": "stream",
     "text": [
      "True\n"
     ]
    }
   ],
   "source": [
    "print((s_1==s(k1, k2, k3, k4)%(2**8)).all()) #Матрица s и полученная нами при анализе s_1 совпадают"
   ]
  },
  {
   "cell_type": "code",
   "execution_count": 10,
   "metadata": {},
   "outputs": [],
   "source": [
    "# дешифрование используя только матрицы, полученные при анализе шифрованой и дешифрованой картинок\n",
    "key_B_hk = key_B_0_hk\n",
    "\n",
    "imgb_d_hk = [0] * Nb\n",
    "\n",
    "for i in range(Nb):\n",
    "    B_C = imgb_c[i]\n",
    "    B_D = deciphering_block(B_C, key_B_hk, 8)\n",
    "    imgb_d_hk[i] = B_D\n",
    "    key_B_hk = key_update_hk(key_B_hk, B_C, B_D, s_1, 8)"
   ]
  },
  {
   "cell_type": "code",
   "execution_count": 11,
   "metadata": {},
   "outputs": [
    {
     "name": "stdout",
     "output_type": "stream",
     "text": [
      "True\n"
     ]
    }
   ],
   "source": [
    "print((np.array(imgb_d)==np.array(imgb_d_hk)).all())"
   ]
  },
  {
   "cell_type": "code",
   "execution_count": 12,
   "metadata": {},
   "outputs": [],
   "source": [
    "arr2_hk = From_blocks_to_arr_image(imgb_d_hk,Nb,k)\n",
    "\n",
    "im_1 = Image.fromarray(arr2_hk, 'L')\n",
    "im_1.save(\"decrypted_hk.jpg\")"
   ]
  }
 ],
 "metadata": {
  "kernelspec": {
   "display_name": "Python 3",
   "language": "python",
   "name": "python3"
  },
  "language_info": {
   "codemirror_mode": {
    "name": "ipython",
    "version": 3
   },
   "file_extension": ".py",
   "mimetype": "text/x-python",
   "name": "python",
   "nbconvert_exporter": "python",
   "pygments_lexer": "ipython3",
   "version": "3.7.6"
  }
 },
 "nbformat": 4,
 "nbformat_minor": 4
}
