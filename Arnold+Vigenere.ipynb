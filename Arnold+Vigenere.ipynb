{
 "cells": [
  {
   "cell_type": "code",
   "execution_count": 1,
   "metadata": {},
   "outputs": [],
   "source": [
    "import numpy as np\n",
    "import cv2\n",
    "from PIL import Image\n",
    "\n",
    "from Algorithm import key_expansion, ciphering_block, key_update, deciphering_block, s, Arnold\n",
    "from Image import blockshaped, From_blocks_to_arr_image\n",
    "from Metrics import Entr, Hist, EQ"
   ]
  },
  {
   "cell_type": "code",
   "execution_count": 2,
   "metadata": {},
   "outputs": [],
   "source": [
    "# шифрование картинки\n",
    "\n",
    "k1 = [1,32,3,234,15,156,7,8,9,40,1,2,3,43,5,64]\n",
    "k2 = [1,2,35,54,55,26,73,8,9,50,21,2,3,45,5,65]\n",
    "k3 = [1,27,3,24,25,6,7,8,9,0,13,2,23,4,5,64]\n",
    "k4 = [143,25,33,4,5,6,73,8,39,0,1,2,3,4,5,6]\n",
    "\n",
    "img_path = 'station.jpg'\n",
    "img = cv2.imread(img_path, 0)\n",
    "\n",
    "imgb = blockshaped(img, 16, 16)\n",
    "Nb = len(imgb)\n",
    "imgb_c = [0] * Nb\n",
    "imgb_d = [0] * Nb\n",
    "\n",
    "key_B = key_expansion(k1, k2, k3, k4)\n",
    "\n",
    "for i in range(Nb):\n",
    "    B = imgb[i]\n",
    "    B_C = ciphering_block(B, key_B, 8)\n",
    "    imgb_c[i] = B_C\n",
    "    key_B = key_update(key_B, B_C, B, k1, k2, k3, k4, 8)"
   ]
  },
  {
   "cell_type": "code",
   "execution_count": 3,
   "metadata": {},
   "outputs": [],
   "source": [
    "k = int(len(img[0]) / 16)\n",
    "\n",
    "arr2 = From_blocks_to_arr_image(imgb_c,Nb,k)\n",
    "\n",
    "im_1 = Image.fromarray(arr2, 'L')\n",
    "im_1.save(\"encrypted.jpg\")"
   ]
  },
  {
   "cell_type": "code",
   "execution_count": 4,
   "metadata": {},
   "outputs": [],
   "source": [
    "# дешифрование зашифрованной картинки\n",
    "key_B = key_expansion(k1, k2, k3, k4)\n",
    "\n",
    "for i in range(Nb):\n",
    "    B_C = imgb_c[i]\n",
    "    B_D = deciphering_block(B_C, key_B, 8)\n",
    "    imgb_d[i] = B_D\n",
    "    key_B = key_update(key_B, B_C, B_D, k1, k2, k3, k4, 8)"
   ]
  },
  {
   "cell_type": "code",
   "execution_count": 5,
   "metadata": {},
   "outputs": [],
   "source": [
    "arr2 = From_blocks_to_arr_image(imgb_d,Nb,k)\n",
    "\n",
    "im_1 = Image.fromarray(arr2, 'L')\n",
    "im_1.save(\"decrypted.jpg\")"
   ]
  },
  {
   "cell_type": "code",
   "execution_count": 6,
   "metadata": {},
   "outputs": [
    {
     "name": "stdout",
     "output_type": "stream",
     "text": [
      "True\n"
     ]
    },
    {
     "name": "stderr",
     "output_type": "stream",
     "text": [
      "/Users/apple/Securing_DICOM_Images/Algorithm.py:19: RuntimeWarning: overflow encountered in ubyte_scalars\n",
      "  p_i = (c_i - k_i) % (2**n)\n"
     ]
    }
   ],
   "source": [
    "#Получаем key_B из первого блока зашифрованной и расшифрованной картинок\n",
    "key_B_0_hk = deciphering_block(imgb_c[0],imgb_d[0],8)\n",
    "print(np.all(key_B_0_hk == key_expansion(k1, k2, k3, k4)))"
   ]
  },
  {
   "cell_type": "code",
   "execution_count": 7,
   "metadata": {},
   "outputs": [],
   "source": [
    "def Arn_hk(mat):\n",
    "    mat_A = Arnold(mat)\n",
    "    mat_A_1 = mat_A\n",
    "    while(np.any(mat_A != mat)):\n",
    "        mat_A_1 = mat_A\n",
    "        mat_A = Arnold(mat_A)\n",
    "    return mat_A_1"
   ]
  },
  {
   "cell_type": "code",
   "execution_count": 8,
   "metadata": {},
   "outputs": [
    {
     "name": "stderr",
     "output_type": "stream",
     "text": [
      "/Users/apple/Securing_DICOM_Images/Algorithm.py:19: RuntimeWarning: overflow encountered in ubyte_scalars\n",
      "  p_i = (c_i - k_i) % (2**n)\n"
     ]
    }
   ],
   "source": [
    "key_B_2 = deciphering_block(imgb_c[1],imgb_d[1],8)\n",
    "\n",
    "s_1 = (Arn_hk(key_B_2) - np.outer(imgb_c[0].sum(0),imgb_d[0].sum(1)) - key_B_0_hk) % (2**8)"
   ]
  },
  {
   "cell_type": "code",
   "execution_count": 9,
   "metadata": {},
   "outputs": [
    {
     "name": "stdout",
     "output_type": "stream",
     "text": [
      "True\n"
     ]
    }
   ],
   "source": [
    "print(np.all(s_1 == s(k1, k2, k3, k4)%(2**8)))#Полученая нами матрица совпадает с "
   ]
  },
  {
   "cell_type": "code",
   "execution_count": 10,
   "metadata": {},
   "outputs": [
    {
     "data": {
      "text/plain": [
       "16.0"
      ]
     },
     "execution_count": 10,
     "metadata": {},
     "output_type": "execute_result"
    }
   ],
   "source": [
    "s_1[7][8]"
   ]
  },
  {
   "cell_type": "code",
   "execution_count": 11,
   "metadata": {},
   "outputs": [],
   "source": [
    "k1_k2_k3_k4_hk = np.zeros((16,4))"
   ]
  },
  {
   "cell_type": "code",
   "execution_count": 12,
   "metadata": {},
   "outputs": [
    {
     "data": {
      "text/plain": [
       "array([[0., 0., 0., 0.],\n",
       "       [0., 0., 0., 0.],\n",
       "       [0., 0., 0., 0.],\n",
       "       [0., 0., 0., 0.],\n",
       "       [0., 0., 0., 0.],\n",
       "       [0., 0., 0., 0.],\n",
       "       [0., 0., 0., 0.],\n",
       "       [0., 0., 0., 0.],\n",
       "       [0., 0., 0., 0.],\n",
       "       [0., 0., 0., 0.],\n",
       "       [0., 0., 0., 0.],\n",
       "       [0., 0., 0., 0.],\n",
       "       [0., 0., 0., 0.],\n",
       "       [0., 0., 0., 0.],\n",
       "       [0., 0., 0., 0.],\n",
       "       [0., 0., 0., 0.]])"
      ]
     },
     "execution_count": 12,
     "metadata": {},
     "output_type": "execute_result"
    }
   ],
   "source": [
    "k1_k2_k3_k4_hk"
   ]
  },
  {
   "cell_type": "code",
   "execution_count": 13,
   "metadata": {},
   "outputs": [],
   "source": [
    "def get_kv_vich(n):\n",
    "    vich_arr = []\n",
    "    for t in range(0,2**n):\n",
    "        vich_arr.append(t**2 % (2**n))\n",
    "    return list(dict.fromkeys(vich_arr))"
   ]
  },
  {
   "cell_type": "code",
   "execution_count": 14,
   "metadata": {},
   "outputs": [
    {
     "data": {
      "text/plain": [
       "[0,\n",
       " 1,\n",
       " 4,\n",
       " 9,\n",
       " 16,\n",
       " 25,\n",
       " 36,\n",
       " 49,\n",
       " 64,\n",
       " 81,\n",
       " 100,\n",
       " 121,\n",
       " 144,\n",
       " 169,\n",
       " 196,\n",
       " 225,\n",
       " 33,\n",
       " 68,\n",
       " 105,\n",
       " 185,\n",
       " 228,\n",
       " 17,\n",
       " 113,\n",
       " 164,\n",
       " 217,\n",
       " 73,\n",
       " 132,\n",
       " 193,\n",
       " 65,\n",
       " 201,\n",
       " 89,\n",
       " 241,\n",
       " 145,\n",
       " 57,\n",
       " 233,\n",
       " 161,\n",
       " 97,\n",
       " 41,\n",
       " 249,\n",
       " 209,\n",
       " 177,\n",
       " 153,\n",
       " 137,\n",
       " 129]"
      ]
     },
     "execution_count": 14,
     "metadata": {},
     "output_type": "execute_result"
    }
   ],
   "source": [
    "get_kv_vich(8)"
   ]
  },
  {
   "cell_type": "code",
   "execution_count": 15,
   "metadata": {},
   "outputs": [],
   "source": [
    "from itertools import combinations_with_replacement \n",
    "Kv_vich = get_kv_vich(8)\n",
    "i_j_diag_pret = []\n",
    "for i in range(16):\n",
    "    for j in range(16):\n",
    "        if i==j:\n",
    "            pret_list = []\n",
    "            for p in combinations_with_replacement(Kv_vich,4):\n",
    "                p_1 = np.array(p)\n",
    "                if p_1.sum()%(2**8) == s_1[i][j]:\n",
    "                    pret_list.append(p)\n",
    "            i_j_diag_pret.append(pret_list)"
   ]
  },
  {
   "cell_type": "code",
   "execution_count": 16,
   "metadata": {},
   "outputs": [
    {
     "name": "stdout",
     "output_type": "stream",
     "text": [
      "1651\n",
      "512\n",
      "1662\n",
      "20\n",
      "1662\n",
      "1662\n",
      "1651\n",
      "2\n",
      "1651\n",
      "1651\n",
      "1651\n",
      "45\n",
      "1662\n",
      "746\n",
      "1651\n",
      "200\n"
     ]
    }
   ],
   "source": [
    "for i in i_j_diag_pret:\n",
    "    print(len(i))"
   ]
  },
  {
   "cell_type": "code",
   "execution_count": 17,
   "metadata": {},
   "outputs": [
    {
     "data": {
      "text/plain": [
       "[(0, 0, 0, 0), (64, 64, 64, 64)]"
      ]
     },
     "execution_count": 17,
     "metadata": {},
     "output_type": "execute_result"
    }
   ],
   "source": [
    "i_j_diag_pret[7]"
   ]
  },
  {
   "cell_type": "code",
   "execution_count": 18,
   "metadata": {},
   "outputs": [
    {
     "name": "stdout",
     "output_type": "stream",
     "text": [
      "[16, 4, 8, 4, 16, 4, 8, 4, 16, 4, 8, 4, 16, 4, 8, 4, 4, 8, 4, 4, 8, 4, 4, 8, 4, 4, 8, 4, 4, 4, 4, 4, 4, 4, 4, 4, 4, 4, 4, 4, 4, 4, 4, 4]\n"
     ]
    }
   ],
   "source": [
    "op = []\n",
    "for j in get_kv_vich(8):\n",
    "    o=0\n",
    "    for i in range(256):\n",
    "        if i*i % 256 == j:\n",
    "            o+=1\n",
    "    op.append(o)\n",
    "print(op)\n"
   ]
  },
  {
   "cell_type": "code",
   "execution_count": 19,
   "metadata": {},
   "outputs": [
    {
     "data": {
      "text/plain": [
       "44"
      ]
     },
     "execution_count": 19,
     "metadata": {},
     "output_type": "execute_result"
    }
   ],
   "source": [
    "len(op)"
   ]
  },
  {
   "cell_type": "code",
   "execution_count": 20,
   "metadata": {},
   "outputs": [
    {
     "name": "stdout",
     "output_type": "stream",
     "text": [
      "16\n"
     ]
    }
   ],
   "source": [
    "print(len(i_j_diag_pret))"
   ]
  },
  {
   "cell_type": "code",
   "execution_count": 21,
   "metadata": {},
   "outputs": [
    {
     "data": {
      "text/plain": [
       "9"
      ]
     },
     "execution_count": 21,
     "metadata": {},
     "output_type": "execute_result"
    }
   ],
   "source": [
    "125*125 % 256"
   ]
  },
  {
   "cell_type": "code",
   "execution_count": null,
   "metadata": {},
   "outputs": [],
   "source": []
  }
 ],
 "metadata": {
  "kernelspec": {
   "display_name": "Python 3",
   "language": "python",
   "name": "python3"
  },
  "language_info": {
   "codemirror_mode": {
    "name": "ipython",
    "version": 3
   },
   "file_extension": ".py",
   "mimetype": "text/x-python",
   "name": "python",
   "nbconvert_exporter": "python",
   "pygments_lexer": "ipython3",
   "version": "3.7.0"
  }
 },
 "nbformat": 4,
 "nbformat_minor": 4
}
