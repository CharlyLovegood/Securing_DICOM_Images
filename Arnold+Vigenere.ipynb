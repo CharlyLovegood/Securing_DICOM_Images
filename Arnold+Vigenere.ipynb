{
 "cells": [
  {
   "cell_type": "code",
   "execution_count": 191,
   "metadata": {},
   "outputs": [],
   "source": [
    "import numpy as np\n",
    "import cv2\n",
    "from PIL import Image\n",
    "\n",
    "from Algorithm import key_expansion, ciphering_block, key_update, deciphering_block\n",
    "from Image import blockshaped, From_blocks_to_arr_image\n",
    "from Metrics import Entr, Hist, EQ"
   ]
  },
  {
   "cell_type": "code",
   "execution_count": 192,
   "metadata": {},
   "outputs": [],
   "source": [
    "# шифрование картинки\n",
    "\n",
    "k1 = [1,32,3,234,15,156,7,8,9,40,1,2,3,43,5,64]\n",
    "k2 = [1,2,35,54,55,26,73,8,9,50,21,2,3,45,5,65]\n",
    "k3 = [1,27,3,24,25,6,7,8,9,0,13,2,23,4,5,64]\n",
    "k4 = [143,25,33,4,5,6,73,8,39,0,1,2,3,4,5,6]\n",
    "\n",
    "img_path = 'station.jpg'\n",
    "img = cv2.imread(img_path, 0)\n",
    "\n",
    "imgb = blockshaped(img, 16, 16)\n",
    "Nb = len(imgb)\n",
    "imgb_c = [0] * Nb\n",
    "imgb_d = [0] * Nb\n",
    "\n",
    "key_B = key_expansion(k1, k2, k3, k4)\n",
    "\n",
    "for i in range(Nb):\n",
    "    B = imgb[i]\n",
    "    B_C = ciphering_block(B, key_B, 8)\n",
    "    imgb_c[i] = B_C\n",
    "    key_B = key_update(key_B, B_C, B, k1, k2, k3, k4, 8)"
   ]
  },
  {
   "cell_type": "code",
   "execution_count": 193,
   "metadata": {},
   "outputs": [],
   "source": [
    "k = int(len(img[0]) / 16)\n",
    "\n",
    "arr2 = From_blocks_to_arr_image(imgb_c,Nb,k)\n",
    "\n",
    "im_1 = Image.fromarray(arr2, 'L')\n",
    "im_1.save(\"encrypted.jpg\")"
   ]
  },
  {
   "cell_type": "code",
   "execution_count": 194,
   "metadata": {},
   "outputs": [],
   "source": [
    "# дешифрование зашифрованной картинки\n",
    "key_B = key_expansion(k1, k2, k3, k4)\n",
    "\n",
    "for i in range(Nb):\n",
    "    B_C = imgb_c[i]\n",
    "    B_D = deciphering_block(B_C, key_B, 8)\n",
    "    imgb_d[i] = B_D\n",
    "    key_B = key_update(key_B, B_C, B_D, k1, k2, k3, k4, 8)"
   ]
  },
  {
   "cell_type": "code",
   "execution_count": 190,
   "metadata": {},
   "outputs": [],
   "source": [
    "arr2 = From_blocks_to_arr_image(imgb_d,Nb,k)\n",
    "\n",
    "im_1 = Image.fromarray(arr2, 'L')\n",
    "im_1.save(\"decrypted.jpg\")"
   ]
  }
 ],
 "metadata": {
  "kernelspec": {
   "display_name": "Python 3",
   "language": "python",
   "name": "python3"
  },
  "language_info": {
   "codemirror_mode": {
    "name": "ipython",
    "version": 3
   },
   "file_extension": ".py",
   "mimetype": "text/x-python",
   "name": "python",
   "nbconvert_exporter": "python",
   "pygments_lexer": "ipython3",
   "version": "3.7.3"
  }
 },
 "nbformat": 4,
 "nbformat_minor": 4
}
